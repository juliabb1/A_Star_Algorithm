{
 "cells": [
  {
   "attachments": {},
   "cell_type": "markdown",
   "metadata": {},
   "source": [
    "# Extract and Transform the data from the CSV\n",
    "three dataframes: df_landscape, df_caption, df_start_end_pos will be created from the csv-file."
   ]
  },
  {
   "cell_type": "code",
   "execution_count": 14,
   "metadata": {},
   "outputs": [],
   "source": [
    "import pandas as pd\n",
    "import os\n",
    "import numpy as np\n",
    "import csv"
   ]
  },
  {
   "cell_type": "code",
   "execution_count": 13,
   "metadata": {},
   "outputs": [
    {
     "ename": "NameError",
     "evalue": "name 'pd' is not defined",
     "output_type": "error",
     "traceback": [
      "\u001b[1;31m---------------------------------------------------------------------------\u001b[0m",
      "\u001b[1;31mNameError\u001b[0m                                 Traceback (most recent call last)",
      "\u001b[1;32mc:\\Users\\jbai\\OneDrive\\Dokumente\\Uni Semester 5\\KI\\Programmentwurf\\test.ipynb Zelle 3\u001b[0m in \u001b[0;36m<cell line: 4>\u001b[1;34m()\u001b[0m\n\u001b[0;32m      <a href='vscode-notebook-cell:/c%3A/Users/jbai/OneDrive/Dokumente/Uni%20Semester%205/KI/Programmentwurf/test.ipynb#W4sZmlsZQ%3D%3D?line=1'>2</a>\u001b[0m csv_filename \u001b[39m=\u001b[39m \u001b[39m\"\u001b[39m\u001b[39mS_001_Daten.csv\u001b[39m\u001b[39m\"\u001b[39m\n\u001b[0;32m      <a href='vscode-notebook-cell:/c%3A/Users/jbai/OneDrive/Dokumente/Uni%20Semester%205/KI/Programmentwurf/test.ipynb#W4sZmlsZQ%3D%3D?line=2'>3</a>\u001b[0m path_to_csv \u001b[39m=\u001b[39m os\u001b[39m.\u001b[39mpath\u001b[39m.\u001b[39mjoin(\u001b[39m\"\u001b[39m\u001b[39mSEARCH_001\u001b[39m\u001b[39m\"\u001b[39m, \u001b[39m\"\u001b[39m\u001b[39mS001\u001b[39m\u001b[39m\"\u001b[39m, csv_filename)\n\u001b[1;32m----> <a href='vscode-notebook-cell:/c%3A/Users/jbai/OneDrive/Dokumente/Uni%20Semester%205/KI/Programmentwurf/test.ipynb#W4sZmlsZQ%3D%3D?line=3'>4</a>\u001b[0m df_total \u001b[39m=\u001b[39m pd\u001b[39m.\u001b[39mread_csv(path_to_csv, sep\u001b[39m=\u001b[39m\u001b[39m\"\u001b[39m\u001b[39m;\u001b[39m\u001b[39m\"\u001b[39m, encoding\u001b[39m=\u001b[39m\u001b[39m\"\u001b[39m\u001b[39municode-escape\u001b[39m\u001b[39m\"\u001b[39m, header\u001b[39m=\u001b[39m\u001b[39mNone\u001b[39;00m)\n\u001b[0;32m      <a href='vscode-notebook-cell:/c%3A/Users/jbai/OneDrive/Dokumente/Uni%20Semester%205/KI/Programmentwurf/test.ipynb#W4sZmlsZQ%3D%3D?line=5'>6</a>\u001b[0m \u001b[39m# seperate the dataframe in three subdataframes\u001b[39;00m\n\u001b[0;32m      <a href='vscode-notebook-cell:/c%3A/Users/jbai/OneDrive/Dokumente/Uni%20Semester%205/KI/Programmentwurf/test.ipynb#W4sZmlsZQ%3D%3D?line=6'>7</a>\u001b[0m \u001b[39m## df_landscape / np_landscape\u001b[39;00m\n\u001b[0;32m      <a href='vscode-notebook-cell:/c%3A/Users/jbai/OneDrive/Dokumente/Uni%20Semester%205/KI/Programmentwurf/test.ipynb#W4sZmlsZQ%3D%3D?line=7'>8</a>\u001b[0m endrow_landscape_data \u001b[39m=\u001b[39m df_total\u001b[39m.\u001b[39mloc[pd\u001b[39m.\u001b[39misna(df_total[\u001b[39m0\u001b[39m])]\u001b[39m.\u001b[39mindex[\u001b[39m0\u001b[39m]         \u001b[39m# get index of a row containing NaN in column 0\u001b[39;00m\n",
      "\u001b[1;31mNameError\u001b[0m: name 'pd' is not defined"
     ]
    }
   ],
   "source": [
    "\n",
    "# Read whole csv file and create a dataframe\n",
    "csv_filename = \"S_001_Daten.csv\"\n",
    "path_to_csv = os.path.join(\"SEARCH_001\", \"S001\", csv_filename)\n",
    "df_total = pd.read_csv(path_to_csv, sep=\";\", encoding=\"unicode-escape\", header=None)\n",
    "\n",
    "# seperate the dataframe in three subdataframes\n",
    "## df_landscape / np_landscape\n",
    "endrow_landscape_data = df_total.loc[pd.isna(df_total[0])].index[0]         # get index of a row containing NaN in column 0\n",
    "df_landscape = df_total[:endrow_landscape_data]                             # get landscape part of data\n",
    "df_landscape = df_landscape.astype(float)                                   # clean data\n",
    "np_landscape = df_landscape.to_numpy().T                                    # to numpy\n",
    "\n",
    "## df_caption\n",
    "startrow_caption_data = endrow_landscape_data + 1\n",
    "endrow_caption_data = df_total.loc[pd.isna(df_total[0])].index[1]            # get index of a row containing NaN in column 0\n",
    "nrows_caption_data = endrow_caption_data - startrow_caption_data - 1\n",
    "df_caption = pd.read_csv(path_to_csv, sep=\";\", encoding=\"unicode-escape\", skiprows=startrow_caption_data, nrows=nrows_caption_data, usecols=[\"Code\", \"Bezeichnung\", \"Kosten\"])\n",
    "df_caption[\"Code\"] = df_caption[\"Code\"].astype(int)                         # clean data\n",
    "df_caption[\"Bezeichnung\"] = df_caption[\"Bezeichnung\"].astype(str)           # clean data\n",
    "df_caption[\"Kosten\"] = df_caption[\"Kosten\"].astype(float)                   # clean data\n",
    "\n",
    "## df_start_end_pos\n",
    "startrow_pos_data = endrow_caption_data + 1                                 # get index of a row where start and endpoint information starts\n",
    "df_start_end_pos = pd.read_csv(path_to_csv, sep=\";\", encoding=\"unicode-escape\", skiprows=startrow_pos_data, usecols=[\"Startpunkt\", \"Endpunkt\"])\n",
    "df_start_end_pos.index = [\"x\", \"y\"]                                         # transform dataframe\n",
    "df_start_end_pos[\"Startpunkt\"] = df_start_end_pos[\"Startpunkt\"].astype(int)             # clean data\n",
    "df_start_end_pos[\"Endpunkt\"] = df_start_end_pos[\"Endpunkt\"].astype(int)              # clean data\n",
    "np_start_end_pos = df_start_end_pos.to_numpy().T                            # to numpy"
   ]
  },
  {
   "cell_type": "code",
   "execution_count": 12,
   "metadata": {},
   "outputs": [
    {
     "ename": "NameError",
     "evalue": "name 'df_landscape' is not defined",
     "output_type": "error",
     "traceback": [
      "\u001b[1;31m---------------------------------------------------------------------------\u001b[0m",
      "\u001b[1;31mNameError\u001b[0m                                 Traceback (most recent call last)",
      "\u001b[1;32mc:\\Users\\jbai\\OneDrive\\Dokumente\\Uni Semester 5\\KI\\Programmentwurf\\test.ipynb Zelle 4\u001b[0m in \u001b[0;36m<cell line: 1>\u001b[1;34m()\u001b[0m\n\u001b[1;32m----> <a href='vscode-notebook-cell:/c%3A/Users/jbai/OneDrive/Dokumente/Uni%20Semester%205/KI/Programmentwurf/test.ipynb#W5sZmlsZQ%3D%3D?line=0'>1</a>\u001b[0m df_landscape\u001b[39m.\u001b[39mshape \u001b[39m# (number_row, number_col)\u001b[39;00m\n\u001b[0;32m      <a href='vscode-notebook-cell:/c%3A/Users/jbai/OneDrive/Dokumente/Uni%20Semester%205/KI/Programmentwurf/test.ipynb#W5sZmlsZQ%3D%3D?line=1'>2</a>\u001b[0m df_landscape\n",
      "\u001b[1;31mNameError\u001b[0m: name 'df_landscape' is not defined"
     ]
    }
   ],
   "source": [
    "df_landscape.shape # (number_row, number_col)\n",
    "df_landscape"
   ]
  },
  {
   "cell_type": "code",
   "execution_count": 8,
   "metadata": {},
   "outputs": [
    {
     "data": {
      "text/html": [
       "<div>\n",
       "<style scoped>\n",
       "    .dataframe tbody tr th:only-of-type {\n",
       "        vertical-align: middle;\n",
       "    }\n",
       "\n",
       "    .dataframe tbody tr th {\n",
       "        vertical-align: top;\n",
       "    }\n",
       "\n",
       "    .dataframe thead th {\n",
       "        text-align: right;\n",
       "    }\n",
       "</style>\n",
       "<table border=\"1\" class=\"dataframe\">\n",
       "  <thead>\n",
       "    <tr style=\"text-align: right;\">\n",
       "      <th></th>\n",
       "      <th>Code</th>\n",
       "      <th>Bezeichnung</th>\n",
       "      <th>Kosten</th>\n",
       "    </tr>\n",
       "  </thead>\n",
       "  <tbody>\n",
       "    <tr>\n",
       "      <th>0</th>\n",
       "      <td>0</td>\n",
       "      <td>Ebene</td>\n",
       "      <td>3.0</td>\n",
       "    </tr>\n",
       "    <tr>\n",
       "      <th>1</th>\n",
       "      <td>1</td>\n",
       "      <td>Fluss</td>\n",
       "      <td>5.0</td>\n",
       "    </tr>\n",
       "    <tr>\n",
       "      <th>2</th>\n",
       "      <td>2</td>\n",
       "      <td>Weg</td>\n",
       "      <td>1.0</td>\n",
       "    </tr>\n",
       "    <tr>\n",
       "      <th>3</th>\n",
       "      <td>3</td>\n",
       "      <td>Wald</td>\n",
       "      <td>4.0</td>\n",
       "    </tr>\n",
       "    <tr>\n",
       "      <th>4</th>\n",
       "      <td>4</td>\n",
       "      <td>Bruecke</td>\n",
       "      <td>2.0</td>\n",
       "    </tr>\n",
       "    <tr>\n",
       "      <th>5</th>\n",
       "      <td>5</td>\n",
       "      <td>Felswand</td>\n",
       "      <td>20.0</td>\n",
       "    </tr>\n",
       "  </tbody>\n",
       "</table>\n",
       "</div>"
      ],
      "text/plain": [
       "   Code Bezeichnung  Kosten\n",
       "0     0       Ebene     3.0\n",
       "1     1       Fluss     5.0\n",
       "2     2         Weg     1.0\n",
       "3     3        Wald     4.0\n",
       "4     4    Bruecke     2.0\n",
       "5     5    Felswand    20.0"
      ]
     },
     "execution_count": 8,
     "metadata": {},
     "output_type": "execute_result"
    }
   ],
   "source": [
    "df_caption"
   ]
  },
  {
   "cell_type": "code",
   "execution_count": 9,
   "metadata": {},
   "outputs": [
    {
     "data": {
      "text/html": [
       "<div>\n",
       "<style scoped>\n",
       "    .dataframe tbody tr th:only-of-type {\n",
       "        vertical-align: middle;\n",
       "    }\n",
       "\n",
       "    .dataframe tbody tr th {\n",
       "        vertical-align: top;\n",
       "    }\n",
       "\n",
       "    .dataframe thead th {\n",
       "        text-align: right;\n",
       "    }\n",
       "</style>\n",
       "<table border=\"1\" class=\"dataframe\">\n",
       "  <thead>\n",
       "    <tr style=\"text-align: right;\">\n",
       "      <th></th>\n",
       "      <th>Startpunkt</th>\n",
       "      <th>Endpunkt</th>\n",
       "    </tr>\n",
       "  </thead>\n",
       "  <tbody>\n",
       "    <tr>\n",
       "      <th>x</th>\n",
       "      <td>12</td>\n",
       "      <td>3</td>\n",
       "    </tr>\n",
       "    <tr>\n",
       "      <th>y</th>\n",
       "      <td>4</td>\n",
       "      <td>6</td>\n",
       "    </tr>\n",
       "  </tbody>\n",
       "</table>\n",
       "</div>"
      ],
      "text/plain": [
       "   Startpunkt  Endpunkt\n",
       "x          12         3\n",
       "y           4         6"
      ]
     },
     "execution_count": 9,
     "metadata": {},
     "output_type": "execute_result"
    }
   ],
   "source": [
    "df_start_end_pos"
   ]
  },
  {
   "cell_type": "markdown",
   "metadata": {},
   "source": [
    "# Instantiate Grid"
   ]
  },
  {
   "cell_type": "code",
   "execution_count": 1,
   "metadata": {},
   "outputs": [],
   "source": [
    "import grid"
   ]
  },
  {
   "cell_type": "code",
   "execution_count": 2,
   "metadata": {},
   "outputs": [],
   "source": [
    "landscape = grid.Grid()"
   ]
  },
  {
   "cell_type": "code",
   "execution_count": 3,
   "metadata": {},
   "outputs": [
    {
     "data": {
      "text/plain": [
       "2.0"
      ]
     },
     "execution_count": 3,
     "metadata": {},
     "output_type": "execute_result"
    }
   ],
   "source": [
    "landscape.np_grid[0][14]"
   ]
  },
  {
   "cell_type": "code",
   "execution_count": 17,
   "metadata": {},
   "outputs": [
    {
     "name": "stdout",
     "output_type": "stream",
     "text": [
      "start:  (12, 4)\n",
      "end:  (3, 6)\n",
      "code:  2.0\n",
      "name:  Weg\n",
      "cost:  1.0\n"
     ]
    }
   ],
   "source": [
    "# test start end\n",
    "print(\"start: \", landscape.start_pos)\n",
    "print(\"end: \", landscape.end_pos)\n",
    "\n",
    "# test name, cost and code of pos\n",
    "pos = (0, 14)\n",
    "print(\"code: \", landscape.get_code_of_pos(pos))\n",
    "print(\"name: \", landscape.get_name_of_pos(pos))\n",
    "print(\"cost: \", landscape.get_cost_of_pos(pos))\n"
   ]
  },
  {
   "cell_type": "code",
   "execution_count": 18,
   "metadata": {},
   "outputs": [
    {
     "name": "stdout",
     "output_type": "stream",
     "text": [
      "(1, 0)\n",
      "code:  1.0\n",
      "name:  Fluss\n",
      "cost:  5.0\n",
      "----\n",
      "(0, 1)\n",
      "code:  5.0\n",
      "name:  Felswand\n",
      "cost:  20.0\n",
      "----\n"
     ]
    }
   ],
   "source": [
    "pos = (0,0)\n",
    "neighbours = landscape.get_neighbours_of_pos(pos)\n",
    "for neighbour in neighbours:\n",
    "    print(neighbour)\n",
    "    print(\"code: \", landscape.get_code_of_pos(neighbour))\n",
    "    print(\"name: \", landscape.get_name_of_pos(neighbour))\n",
    "    print(\"cost: \", landscape.get_cost_of_pos(neighbour))\n",
    "    print(\"----\")"
   ]
  },
  {
   "attachments": {},
   "cell_type": "markdown",
   "metadata": {},
   "source": [
    "# Instantiate nodes and add it to the graph"
   ]
  },
  {
   "cell_type": "code",
   "execution_count": 7,
   "metadata": {},
   "outputs": [
    {
     "data": {
      "text/plain": [
       "(0, 1)"
      ]
     },
     "execution_count": 7,
     "metadata": {},
     "output_type": "execute_result"
    }
   ],
   "source": [
    "landscape.pos_grid[0][1]"
   ]
  },
  {
   "cell_type": "markdown",
   "metadata": {},
   "source": [
    "# A* Algorithmus"
   ]
  },
  {
   "cell_type": "code",
   "execution_count": 92,
   "metadata": {},
   "outputs": [
    {
     "data": {
      "text/plain": [
       "24"
      ]
     },
     "execution_count": 92,
     "metadata": {},
     "output_type": "execute_result"
    }
   ],
   "source": [
    "knots_to_knot_s2 = {\"s0\": 2, \"s1\": 3, \"s2\":4}\n",
    "knots_to_goal_s4 = {\"s2\": 5, \"s3\": 9, \"s4\":10}\n",
    "\n",
    "\"\"\"get_cost\n",
    "Get costs of a path of knots.\n",
    "\n",
    "Params:\n",
    "    * knots (dictionary): name of knot as key and their cost as value\n",
    "Returns:\n",
    "    * int: sum of costs of all the given knots\n",
    "\"\"\"\n",
    "def get_cost(knots):\n",
    "    sum = 0\n",
    "    for el in knots:\n",
    "        sum += knots[el]\n",
    "    return sum\n",
    "\n",
    "get_cost(knots_to_knot_s2)\n",
    "get_cost(knots_to_goal_s4)"
   ]
  },
  {
   "cell_type": "code",
   "execution_count": 93,
   "metadata": {},
   "outputs": [
    {
     "data": {
      "text/plain": [
       "'s1'"
      ]
     },
     "execution_count": 93,
     "metadata": {},
     "output_type": "execute_result"
    }
   ],
   "source": [
    "open = {}\n",
    "\n",
    "def calculate_f(knot):\n",
    "    get_cost(knots_to_knot_s2)\n",
    "\n",
    "\"\"\"add_to_open\n",
    "Adds knot with cost f(s) to the open dictionary\n",
    "\"\"\"\n",
    "def add_to_open(knot, cost):\n",
    "    open[knot] = cost\n",
    "\n",
    "\"\"\"get_min_from_open\n",
    "Get knot from the dictionary open with minimal f(s)\n",
    "\"\"\"\n",
    "def get_min_from_open():\n",
    "    return min(open, key=open.get)\n",
    "\n",
    "add_to_open(\"s1\", 3)\n",
    "add_to_open(\"s2\", 6)\n",
    "add_to_open(\"s3\", 2)\n",
    "add_to_open(\"s3\", 12)\n",
    "add_to_open(\"s1\", 1)\n",
    "\n",
    "get_min_from_open()"
   ]
  },
  {
   "cell_type": "code",
   "execution_count": 137,
   "metadata": {},
   "outputs": [
    {
     "name": "stdout",
     "output_type": "stream",
     "text": [
      "{<node.Node object at 0x00000248295707F0>: [<node.Node object at 0x0000024829570A30>, <node.Node object at 0x0000024829570D90>]}\n",
      "(2, 3)\n",
      "(3, 3)\n",
      "(5, 3)\n"
     ]
    }
   ],
   "source": [
    "import node\n",
    "cost = 3\n",
    "n1 = node.Node(cost=3, pos=(2,3))\n",
    "n2 = node.Node(cost=4, pos=(3,3))\n",
    "n3 = node.Node(cost=5, pos=(5,3))\n",
    "adjac_list = {}\n",
    "adjac_list[n1] = [n2, n3]\n",
    "\n",
    "print(adjac_list)\n",
    "for n in adjac_list.keys():\n",
    "    print(n.pos)\n",
    "    for v in adjac_list[n]:\n",
    "        print(v.pos)"
   ]
  },
  {
   "cell_type": "code",
   "execution_count": 160,
   "metadata": {},
   "outputs": [
    {
     "name": "stdout",
     "output_type": "stream",
     "text": [
      "[[1 2]\n",
      " [3 4]]\n"
     ]
    },
    {
     "data": {
      "text/plain": [
       "((1, 2), (3, 4))"
      ]
     },
     "execution_count": 160,
     "metadata": {},
     "output_type": "execute_result"
    }
   ],
   "source": [
    "### to tuple\n",
    "from numpy import array\n",
    "a = np.array([[1, 2],\n",
    "           [3, 4]])\n",
    "print(a)\n",
    "tuple(tuple(a_m.tolist()) for a_m in a )"
   ]
  },
  {
   "cell_type": "code",
   "execution_count": 125,
   "metadata": {},
   "outputs": [
    {
     "data": {
      "text/plain": [
       "[1, 2, 3]"
      ]
     },
     "execution_count": 125,
     "metadata": {},
     "output_type": "execute_result"
    }
   ],
   "source": []
  }
 ],
 "metadata": {
  "kernelspec": {
   "display_name": "Python 3",
   "language": "python",
   "name": "python3"
  },
  "language_info": {
   "codemirror_mode": {
    "name": "ipython",
    "version": 3
   },
   "file_extension": ".py",
   "mimetype": "text/x-python",
   "name": "python",
   "nbconvert_exporter": "python",
   "pygments_lexer": "ipython3",
   "version": "3.10.4"
  },
  "orig_nbformat": 4,
  "vscode": {
   "interpreter": {
    "hash": "2f10e1e870889fe497676b63de25d6ac5509f0863047f1b2ddc296093e739ff7"
   }
  }
 },
 "nbformat": 4,
 "nbformat_minor": 2
}
